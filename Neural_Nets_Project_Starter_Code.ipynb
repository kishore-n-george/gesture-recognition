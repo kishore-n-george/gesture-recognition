{
  "cells": [
    {
      "cell_type": "markdown",
      "metadata": {
        "id": "mW60KrqH58iR"
      },
      "source": [
        "# Gesture Recognition\n",
        "In this group project, you are going to build a 3D Conv model that will be able to predict the 5 gestures correctly. Please import the following libraries to get started."
      ]
    },
    {
      "cell_type": "code",
      "source": [
        "#!gdown https://drive.google.com/uc?id=1ehyrYBQ5rbQQe6yL4XbLWe3FMvuVUGiL\n"
      ],
      "metadata": {
        "id": "k0ViQNcr6w7X"
      },
      "execution_count": 1,
      "outputs": []
    },
    {
      "cell_type": "code",
      "source": [
        "#!unzip Project_data.zip"
      ],
      "metadata": {
        "id": "qFHgL8ptAob4"
      },
      "execution_count": 2,
      "outputs": []
    },
    {
      "cell_type": "code",
      "execution_count": 3,
      "metadata": {
        "id": "4kZSKM-A58iV"
      },
      "outputs": [],
      "source": [
        "import numpy as np\n",
        "import os\n",
        "import cv2\n",
        "from cv2 import imread\n",
        "import matplotlib.pyplot as plt\n",
        "#from scipy.misc import imread, imresize\n",
        "import datetime\n",
        "import os\n",
        "from tensorflow.keras.utils import img_to_array, array_to_img, load_img\n",
        "\n",
        "from keras.models import Model, load_model, Sequential\n",
        "from keras.layers import Input, BatchNormalization, Activation, Dense, Dropout, Flatten\n",
        "from keras.layers.core import Lambda, RepeatVector, Reshape\n",
        "from keras.layers.convolutional import Conv3D\n",
        "from keras.layers.pooling import MaxPooling3D, GlobalMaxPool3D\n",
        "# from keras.layers.merge import concatenate, add\n",
        "from keras.callbacks import EarlyStopping, ModelCheckpoint, ReduceLROnPlateau\n",
        "from tensorflow.keras.optimizers import Adam\n",
        "\n",
        "from keras import optimizers\n",
        "from tensorflow.keras.utils import img_to_array, array_to_img, load_img\n",
        "from keras.layers import concatenate, add\n",
        "from keras.preprocessing.image import ImageDataGenerator\n",
        "import tensorflow_datasets as tfds"
      ]
    },
    {
      "cell_type": "markdown",
      "metadata": {
        "id": "t-Mwwyj258iW"
      },
      "source": [
        "We set the random seed so that the results don't vary drastically."
      ]
    },
    {
      "cell_type": "code",
      "execution_count": 4,
      "metadata": {
        "id": "jdOZUO8O58iX"
      },
      "outputs": [],
      "source": [
        "np.random.seed(30)\n",
        "import random as rn\n",
        "rn.seed(30)\n",
        "from keras import backend as K\n",
        "import tensorflow as tf\n",
        "tf.random.set_seed(30)\n",
        "#tf.device('/cpu:0')"
      ]
    },
    {
      "cell_type": "markdown",
      "metadata": {
        "id": "O1sKsjoO58iY"
      },
      "source": [
        "In this block, you read the folder names for training and validation. You also set the `batch_size` here. Note that you set the batch size in such a way that you are able to use the GPU in full capacity. You keep increasing the batch size until the machine throws an error."
      ]
    },
    {
      "cell_type": "code",
      "execution_count": 5,
      "metadata": {
        "id": "2uDtsC4p58iY"
      },
      "outputs": [],
      "source": [
        "# reusable functions\n",
        "def resize(input_image,threshold=False):\n",
        "   # gray = cv2.cvtColor(input_image,cv2.COLOR_BGR2GRAY)\n",
        "   resized = cv2.resize(input_image, dsize=(120, 120), interpolation=cv2.INTER_CUBIC)\n",
        "   input_image = img_to_array(resized)\n",
        "   return input_image\n",
        "\n",
        "def normalize_image(input_image):\n",
        "   input_image = tf.cast(input_image, tf.float32) / 255.0\n",
        "   return input_image\n",
        "\n",
        "def plot_model_history(model_history):\n",
        "    fig, axs = plt.subplots(1,2,figsize=(15,5))\n",
        "    # summarize history for accuracy\n",
        "    axs[0].plot(range(1,len(model_history.history['accuracy'])+1),model_history.history['accuracy'])\n",
        "    axs[0].plot(range(1,len(model_history.history['val_accuracy'])+1),model_history.history['val_accuracy'])\n",
        "    axs[0].set_title('Model Accuracy')\n",
        "    axs[0].set_ylabel('Accuracy')\n",
        "    axs[0].set_xlabel('Epoch')\n",
        "    #axs[0].set_xticks(np.arange(1,len(model_history.history['accuracy'])+1),len(model_history.history['accuracy'])/10)\n",
        "    axs[0].legend(['train', 'val'], loc='best')\n",
        "    # summarize history for loss\n",
        "    axs[1].plot(range(1,len(model_history.history['loss'])+1),model_history.history['loss'])\n",
        "    axs[1].plot(range(1,len(model_history.history['val_loss'])+1),model_history.history['val_loss'])\n",
        "    axs[1].set_title('Model Loss')\n",
        "    axs[1].set_ylabel('Loss')\n",
        "    axs[1].set_xlabel('Epoch')\n",
        "    #axs[1].set_xticks(np.arange(1,len(model_history.history['loss'])+1),len(model_history.history['loss'])/10)\n",
        "    axs[1].legend(['train', 'val'], loc='best')\n",
        "    plt.show()\n"
      ]
    },
    {
      "cell_type": "code",
      "execution_count": 6,
      "metadata": {
        "id": "ff1dMzeX58iY"
      },
      "outputs": [],
      "source": [
        "train_doc = np.random.permutation(open('./Project_data/train.csv').readlines())\n",
        "val_doc = np.random.permutation(open('./Project_data/val.csv').readlines())\n",
        "batch_size = 30 #experiment with the batch size\n",
        "# print(len(train_doc))\n",
        "global number_of_sequences\n",
        "number_of_sequences = 30 #len(train_doc)\n",
        "# batch size should be large enough to include all the train data.\n",
        "# GPU might not be able to handle all the train data, in that case we will have to reduce the batch data.\n",
        "# assignment - 663 folder approx 1.5 GB"
      ]
    },
    {
      "cell_type": "markdown",
      "metadata": {
        "id": "HyuWoZAZ58iY"
      },
      "source": [
        "## Generator\n",
        "This is one of the most important part of the code. The overall structure of the generator has been given. In the generator, you are going to preprocess the images as you have images of 2 different dimensions as well as create a batch of video frames. You have to experiment with `img_idx`, `y`,`z` and normalization such that you get high accuracy."
      ]
    },
    {
      "cell_type": "code",
      "execution_count": 7,
      "metadata": {
        "id": "NpVcqM_N58iZ"
      },
      "outputs": [],
      "source": [
        "def generator(source_path, folder_list, batch_size):\n",
        "    print( 'Source path = ', source_path, '; batch size =', batch_size)\n",
        "    img_idx = list(range(0, 30)) #create a list of image numbers you want to use for a particular video\n",
        "    x = len(img_idx)\n",
        "    y = 120\n",
        "    z = 120\n",
        "    # 30 images per folder, might not want to use all of them.\n",
        "    # sampling 15-20 images should be good.\n",
        "    # 30 might lead to memory issues\n",
        "    while True:\n",
        "        t = np.random.permutation(folder_list)\n",
        "        num_batches = number_of_sequences//batch_size # calculate the number of batches\n",
        "        print(num_batches)\n",
        "        for batch in range(num_batches): # we iterate over the number of batches\n",
        "            batch_data = np.zeros((batch_size,x,y,z,3)) # x is the number of images you use for each video, (y,z) is the final size of the input images and 3 is the number of channels RGB\n",
        "            batch_labels = np.zeros((batch_size,5)) # batch_labels is the one hot representation of the output\n",
        "            for folder in range(batch_size): # iterate over the batch_size\n",
        "                imgs = os.listdir(source_path+'/'+ t[folder + (batch*batch_size)].split(';')[0]) # read all the images in the folder\n",
        "                for idx,item in enumerate(img_idx): #  Iterate iver the frames/images of a folder to read them in\n",
        "                    image = imread(source_path+'/'+ t[folder + (batch*batch_size)].strip().split(';')[0]+'/'+imgs[item]).astype(np.float32)\n",
        "                    #crop the images and resize them. Note that the images are of 2 different shape\n",
        "                    #and the conv3D will throw error if the inputs in a batch have different shapes\n",
        "                    image = resize(image)\n",
        "                    image = normalize_image(image)\n",
        "                    batch_data[folder,idx,:,:,0] = (image[:,:,0])#normalise and feed in the image\n",
        "                    batch_data[folder,idx,:,:,1] = (image[:,:,1])#normalise and feed in the image\n",
        "                    batch_data[folder,idx,:,:,2] = (image[:,:,2])#normalise and feed in the image\n",
        "                batch_labels[folder, int(t[folder + (batch*batch_size)].strip().split(';')[2])] = 1\n",
        "            yield batch_data, batch_labels #you yield the batch_data and the batch_labels, remember what does yield do\n",
        "\n",
        "\n",
        "        # write the code for the remaining data points which are left after full batches\n",
        "        if (number_of_sequences != batch_size*num_batches):\n",
        "            print('fetching missed out folders')\n",
        "            print(\"Batch: \",num_batches+1,\"Index:\", batch_size)\n",
        "            batch_size = number_of_sequences - (batch_size*num_batches)\n",
        "            batch_data = np.zeros((batch_size,x,y,z,3)) # x is the number of images you use for each video, (y,z) is the final size of the input images and 3 is the number of channels RGB\n",
        "            batch_labels = np.zeros((batch_size,5)) # batch_labels is the one hot representation of the output\n",
        "            for folder in range(batch_size): # iterate over the batch_size\n",
        "                imgs = os.listdir(source_path+'/'+ t[folder + (batch*batch_size)].split(';')[0]) # read all the images in the folder\n",
        "                for idx,item in enumerate(img_idx): #  Iterate iver the frames/images of a folder to read them in\n",
        "                    image = imread(source_path+'/'+ t[folder + (batch*batch_size)].strip().split(';')[0]+'/'+imgs[item]).astype(np.float32)\n",
        "                    image = resize(image)\n",
        "                    image = normalize_image(image)\n",
        "                    batch_data[folder,idx,:,:,0] = (image[:,:,0])\n",
        "                    batch_data[folder,idx,:,:,1] = (image[:,:,1])\n",
        "                    batch_data[folder,idx,:,:,2] = (image[:,:,2])\n",
        "\n",
        "                batch_labels[folder, int(t[folder + (batch*batch_size)].strip().split(';')[2])] = 1\n",
        "            yield batch_data, batch_labels"
      ]
    },
    {
      "cell_type": "code",
      "execution_count": 8,
      "metadata": {
        "id": "zTuRYxM758iZ"
      },
      "outputs": [],
      "source": [
        "# train_path = './Project_data/train'\n",
        "# gen = generator(train_path, train_doc, batch_size)\n",
        "# print(next(gen))"
      ]
    },
    {
      "cell_type": "markdown",
      "metadata": {
        "id": "l4-G2z_U58iZ"
      },
      "source": [
        "\n",
        "Note here that a video is represented above in the generator as (number of images, height, width, number of channels). Take this into consideration while creating the model architecture."
      ]
    },
    {
      "cell_type": "code",
      "execution_count": 9,
      "metadata": {
        "id": "_wKJHOGm58iZ",
        "outputId": "6b5da436-e743-4cfb-89bd-e001aeb2b10d",
        "colab": {
          "base_uri": "https://localhost:8080/"
        }
      },
      "outputs": [
        {
          "output_type": "stream",
          "name": "stdout",
          "text": [
            "# training sequences = 10\n",
            "# validation sequences = 10\n",
            "# epochs = 5\n"
          ]
        }
      ],
      "source": [
        "curr_dt_time = datetime.datetime.now()\n",
        "train_path = './Project_data/train'\n",
        "val_path = './Project_data/val'\n",
        "num_train_sequences = 10 #len(train_doc) # modify this to small number while building\n",
        "print('# training sequences =', num_train_sequences)\n",
        "num_val_sequences = 10 #len(val_doc) # modify this to small number while building\n",
        "print('# validation sequences =', num_val_sequences)\n",
        "num_epochs = 5 # choose the number of epochs # modify this to small number while building\n",
        "print ('# epochs =', num_epochs)"
      ]
    },
    {
      "cell_type": "markdown",
      "metadata": {
        "id": "AzIMLZI258ia"
      },
      "source": [
        "## Model\n",
        "Here you make the model using different functionalities that Keras provides. Remember to use `Conv3D` and `MaxPooling3D` and not `Conv2D` and `Maxpooling2D` for a 3D convolution model. You would want to use `TimeDistributed` while building a Conv2D + RNN model. Also remember that the last layer is the softmax. Design the network in such a way that the model is able to give good accuracy on the least number of parameters so that it can fit in the memory of the webcam."
      ]
    },
    {
      "cell_type": "code",
      "execution_count": 10,
      "metadata": {
        "id": "De6bW6VB58ia"
      },
      "outputs": [],
      "source": [
        "\n",
        "model1 = Sequential()\n",
        "\n",
        "model1.add(Conv3D(32, #number of filters\n",
        "                 kernel_size=(3,3,3),\n",
        "                 input_shape=(30, 120, 120, 3),\n",
        "                 padding='same'))\n",
        "model1.add(BatchNormalization())\n",
        "model1.add(Activation('relu'))\n",
        "\n",
        "model1.add(MaxPooling3D(pool_size=(2,2,2)))\n",
        "\n",
        "model1.add(Conv3D(64, #Number of filters,\n",
        "                 kernel_size=(3,3,3),\n",
        "                 padding='same'))\n",
        "model1.add(BatchNormalization())\n",
        "model1.add(Activation('relu'))\n",
        "\n",
        "model1.add(MaxPooling3D(pool_size=(2,2,2)))\n",
        "\n",
        "model1.add(Conv3D(128, #Number of filters\n",
        "                 kernel_size=(1,3,3),\n",
        "                 padding='same'))\n",
        "model1.add(BatchNormalization())\n",
        "model1.add(Activation('relu'))\n",
        "\n",
        "model1.add(MaxPooling3D(pool_size=(2,2,2)))\n",
        "\n",
        "model1.add(Conv3D(256, #Number pf filters\n",
        "                 kernel_size=(1,3,3),\n",
        "                 padding='same'))\n",
        "model1.add(BatchNormalization())\n",
        "model1.add(Activation('relu'))\n",
        "\n",
        "model1.add(MaxPooling3D(pool_size=(2,2,2)))\n",
        "\n",
        "#Flatten Layers\n",
        "model1.add(Flatten())\n",
        "\n",
        "model1.add(Dense(1000, activation='relu'))\n",
        "model1.add(Dropout(0.25))\n",
        "\n",
        "model1.add(Dense(500, activation='relu'))\n",
        "model1.add(Dropout(0.25))\n",
        "\n",
        "#softmax layer\n",
        "model1.add(Dense(5, activation='softmax'))"
      ]
    },
    {
      "cell_type": "markdown",
      "metadata": {
        "id": "szyliH1n58ia"
      },
      "source": [
        "Now that you have written the model, the next step is to `compile` the model. When you print the `summary` of the model, you'll see the total number of parameters you have to train."
      ]
    },
    {
      "cell_type": "code",
      "execution_count": 11,
      "metadata": {
        "scrolled": true,
        "id": "tJloEaqp58ib",
        "outputId": "454ef262-bbfc-4f08-eba1-680eae5183b5",
        "colab": {
          "base_uri": "https://localhost:8080/"
        }
      },
      "outputs": [
        {
          "output_type": "stream",
          "name": "stdout",
          "text": [
            "Model: \"sequential\"\n",
            "_________________________________________________________________\n",
            " Layer (type)                Output Shape              Param #   \n",
            "=================================================================\n",
            " conv3d (Conv3D)             (None, 30, 120, 120, 32)  2624      \n",
            "                                                                 \n",
            " batch_normalization (BatchN  (None, 30, 120, 120, 32)  128      \n",
            " ormalization)                                                   \n",
            "                                                                 \n",
            " activation (Activation)     (None, 30, 120, 120, 32)  0         \n",
            "                                                                 \n",
            " max_pooling3d (MaxPooling3D  (None, 15, 60, 60, 32)   0         \n",
            " )                                                               \n",
            "                                                                 \n",
            " conv3d_1 (Conv3D)           (None, 15, 60, 60, 64)    55360     \n",
            "                                                                 \n",
            " batch_normalization_1 (Batc  (None, 15, 60, 60, 64)   256       \n",
            " hNormalization)                                                 \n",
            "                                                                 \n",
            " activation_1 (Activation)   (None, 15, 60, 60, 64)    0         \n",
            "                                                                 \n",
            " max_pooling3d_1 (MaxPooling  (None, 7, 30, 30, 64)    0         \n",
            " 3D)                                                             \n",
            "                                                                 \n",
            " conv3d_2 (Conv3D)           (None, 7, 30, 30, 128)    73856     \n",
            "                                                                 \n",
            " batch_normalization_2 (Batc  (None, 7, 30, 30, 128)   512       \n",
            " hNormalization)                                                 \n",
            "                                                                 \n",
            " activation_2 (Activation)   (None, 7, 30, 30, 128)    0         \n",
            "                                                                 \n",
            " max_pooling3d_2 (MaxPooling  (None, 3, 15, 15, 128)   0         \n",
            " 3D)                                                             \n",
            "                                                                 \n",
            " conv3d_3 (Conv3D)           (None, 3, 15, 15, 256)    295168    \n",
            "                                                                 \n",
            " batch_normalization_3 (Batc  (None, 3, 15, 15, 256)   1024      \n",
            " hNormalization)                                                 \n",
            "                                                                 \n",
            " activation_3 (Activation)   (None, 3, 15, 15, 256)    0         \n",
            "                                                                 \n",
            " max_pooling3d_3 (MaxPooling  (None, 1, 7, 7, 256)     0         \n",
            " 3D)                                                             \n",
            "                                                                 \n",
            " flatten (Flatten)           (None, 12544)             0         \n",
            "                                                                 \n",
            " dense (Dense)               (None, 1000)              12545000  \n",
            "                                                                 \n",
            " dropout (Dropout)           (None, 1000)              0         \n",
            "                                                                 \n",
            " dense_1 (Dense)             (None, 500)               500500    \n",
            "                                                                 \n",
            " dropout_1 (Dropout)         (None, 500)               0         \n",
            "                                                                 \n",
            " dense_2 (Dense)             (None, 5)                 2505      \n",
            "                                                                 \n",
            "=================================================================\n",
            "Total params: 13,476,933\n",
            "Trainable params: 13,475,973\n",
            "Non-trainable params: 960\n",
            "_________________________________________________________________\n",
            "None\n"
          ]
        },
        {
          "output_type": "stream",
          "name": "stderr",
          "text": [
            "/usr/local/lib/python3.10/dist-packages/keras/optimizers/legacy/adam.py:117: UserWarning: The `lr` argument is deprecated, use `learning_rate` instead.\n",
            "  super().__init__(name, **kwargs)\n"
          ]
        }
      ],
      "source": [
        "optimiser = optimizers.Adam(lr=0.001)#write your optimizer\n",
        "model1.compile(optimizer=optimiser, loss='categorical_crossentropy', metrics=['categorical_accuracy','accuracy'])\n",
        "print (model1.summary())"
      ]
    },
    {
      "cell_type": "markdown",
      "metadata": {
        "id": "aQaSePxx58ib"
      },
      "source": [
        "Let us create the `train_generator` and the `val_generator` which will be used in `.fit_generator`."
      ]
    },
    {
      "cell_type": "code",
      "execution_count": 12,
      "metadata": {
        "id": "zKzyBQJE58ib"
      },
      "outputs": [],
      "source": [
        "train_generator = generator(train_path, train_doc, batch_size)\n",
        "val_generator = generator(val_path, val_doc, batch_size)"
      ]
    },
    {
      "cell_type": "code",
      "execution_count": 13,
      "metadata": {
        "id": "ZX6FJNPw58ib",
        "outputId": "6c1e2ced-2c1e-40d4-9d7f-abbdffc4052b",
        "colab": {
          "base_uri": "https://localhost:8080/"
        }
      },
      "outputs": [
        {
          "output_type": "stream",
          "name": "stderr",
          "text": [
            "WARNING:tensorflow:`period` argument is deprecated. Please use `save_freq` to specify the frequency in number of batches seen.\n"
          ]
        }
      ],
      "source": [
        "model_name = 'model_init' + '_' + str(curr_dt_time).replace(' ','').replace(':','_') + '/'\n",
        "\n",
        "if not os.path.exists(model_name):\n",
        "    os.mkdir(model_name)\n",
        "\n",
        "filepath = model_name + 'model-{epoch:05d}-{loss:.5f}-{categorical_accuracy:.5f}-{val_loss:.5f}-{val_categorical_accuracy:.5f}.h5'\n",
        "\n",
        "checkpoint = ModelCheckpoint(filepath, monitor='val_loss', verbose=1, save_best_only=False, save_weights_only=False, mode='auto', period=1)\n",
        "\n",
        "LR = ReduceLROnPlateau(monitor='val_loss', factor=0.5, patience=2, cooldown=1, verbose=1)# write the REducelronplateau code here\n",
        "callbacks_list = [checkpoint, LR]"
      ]
    },
    {
      "cell_type": "markdown",
      "metadata": {
        "id": "ydP27CU658ib"
      },
      "source": [
        "The `steps_per_epoch` and `validation_steps` are used by `fit_generator` to decide the number of next() calls it need to make."
      ]
    },
    {
      "cell_type": "code",
      "execution_count": 14,
      "metadata": {
        "id": "Cq8DpoiU58ic"
      },
      "outputs": [],
      "source": [
        "if (num_train_sequences%batch_size) == 0:\n",
        "    steps_per_epoch = int(num_train_sequences/batch_size)\n",
        "else:\n",
        "    steps_per_epoch = (num_train_sequences//batch_size) + 1\n",
        "\n",
        "if (num_val_sequences%batch_size) == 0:\n",
        "    validation_steps = int(num_val_sequences/batch_size)\n",
        "else:\n",
        "    validation_steps = (num_val_sequences//batch_size) + 1"
      ]
    },
    {
      "cell_type": "markdown",
      "metadata": {
        "id": "M6MLkuPp58ic"
      },
      "source": [
        "Let us now fit the model. This will start training the model and with the help of the checkpoints, you'll be able to save the model at the end of each epoch."
      ]
    },
    {
      "cell_type": "code",
      "execution_count": 15,
      "metadata": {
        "id": "Na-ylPZN58ic",
        "outputId": "cc842c1a-b680-4f3d-ecbd-9bdc4806cdff",
        "colab": {
          "base_uri": "https://localhost:8080/"
        }
      },
      "outputs": [
        {
          "output_type": "stream",
          "name": "stderr",
          "text": [
            "<ipython-input-15-01c44750be6a>:1: UserWarning: `Model.fit_generator` is deprecated and will be removed in a future version. Please use `Model.fit`, which supports generators.\n",
            "  history = model1.fit_generator(train_generator, steps_per_epoch=1, epochs=5, verbose=1,\n"
          ]
        },
        {
          "output_type": "stream",
          "name": "stdout",
          "text": [
            "Source path =  ./Project_data/train ; batch size = 30\n",
            "1\n",
            "Epoch 1/5\n",
            "1\n",
            "1/1 [==============================] - ETA: 0s - loss: 2.1667 - categorical_accuracy: 0.3000 - accuracy: 0.3000Source path =  ./Project_data/val ; batch size = 30\n",
            "1\n",
            "1\n",
            "\n",
            "Epoch 1: saving model to model_init_2023-06-1718_33_02.615393/model-00001-2.16672-0.30000-2.18776-0.23333.h5\n",
            "1/1 [==============================] - 65s 65s/step - loss: 2.1667 - categorical_accuracy: 0.3000 - accuracy: 0.3000 - val_loss: 2.1878 - val_categorical_accuracy: 0.2333 - val_accuracy: 0.2333 - lr: 0.0010\n",
            "Epoch 2/5\n",
            "1\n",
            "1/1 [==============================] - ETA: 0s - loss: 36.7243 - categorical_accuracy: 0.2333 - accuracy: 0.23331\n",
            "1\n",
            "\n",
            "Epoch 2: saving model to model_init_2023-06-1718_33_02.615393/model-00002-36.72435-0.23333-2.61022-0.20000.h5\n",
            "1/1 [==============================] - 65s 65s/step - loss: 36.7243 - categorical_accuracy: 0.2333 - accuracy: 0.2333 - val_loss: 2.6102 - val_categorical_accuracy: 0.2000 - val_accuracy: 0.2000 - lr: 0.0010\n",
            "Epoch 3/5\n",
            "1\n",
            "1/1 [==============================] - ETA: 0s - loss: 41.5547 - categorical_accuracy: 0.1333 - accuracy: 0.13331\n",
            "1\n",
            "\n",
            "Epoch 3: saving model to model_init_2023-06-1718_33_02.615393/model-00003-41.55475-0.13333-6.58557-0.16667.h5\n",
            "\n",
            "Epoch 3: ReduceLROnPlateau reducing learning rate to 0.0005000000237487257.\n",
            "1/1 [==============================] - 64s 64s/step - loss: 41.5547 - categorical_accuracy: 0.1333 - accuracy: 0.1333 - val_loss: 6.5856 - val_categorical_accuracy: 0.1667 - val_accuracy: 0.1667 - lr: 0.0010\n",
            "Epoch 4/5\n",
            "1\n",
            "1/1 [==============================] - ETA: 0s - loss: 24.2130 - categorical_accuracy: 0.4000 - accuracy: 0.40001\n",
            "1\n",
            "\n",
            "Epoch 4: saving model to model_init_2023-06-1718_33_02.615393/model-00004-24.21299-0.40000-6.05885-0.10000.h5\n",
            "1/1 [==============================] - 63s 63s/step - loss: 24.2130 - categorical_accuracy: 0.4000 - accuracy: 0.4000 - val_loss: 6.0588 - val_categorical_accuracy: 0.1000 - val_accuracy: 0.1000 - lr: 5.0000e-04\n",
            "Epoch 5/5\n",
            "1\n",
            "1/1 [==============================] - ETA: 0s - loss: 25.1896 - categorical_accuracy: 0.3000 - accuracy: 0.30001\n",
            "1\n",
            "\n",
            "Epoch 5: saving model to model_init_2023-06-1718_33_02.615393/model-00005-25.18960-0.30000-5.77635-0.16667.h5\n",
            "\n",
            "Epoch 5: ReduceLROnPlateau reducing learning rate to 0.0002500000118743628.\n",
            "1/1 [==============================] - 69s 69s/step - loss: 25.1896 - categorical_accuracy: 0.3000 - accuracy: 0.3000 - val_loss: 5.7763 - val_categorical_accuracy: 0.1667 - val_accuracy: 0.1667 - lr: 5.0000e-04\n"
          ]
        }
      ],
      "source": [
        "history = model1.fit_generator(train_generator, steps_per_epoch=1, epochs=5, verbose=1,\n",
        "                    callbacks=callbacks_list, validation_data=val_generator,\n",
        "                    validation_steps=validation_steps, class_weight=None, workers=1, initial_epoch=0) # steps_per_epoch=steps_per_epoch, epochs=num_epochs"
      ]
    },
    {
      "cell_type": "code",
      "execution_count": 16,
      "metadata": {
        "id": "NJfuzj2F58ic",
        "colab": {
          "base_uri": "https://localhost:8080/",
          "height": 487
        },
        "outputId": "2a989331-1d51-47a8-d42f-5423811220de"
      },
      "outputs": [
        {
          "output_type": "display_data",
          "data": {
            "text/plain": [
              "<Figure size 1500x500 with 2 Axes>"
            ],
            "image/png": "[encoded data removed]"
          },
          "metadata": {}
        }
      ],
      "source": [
        "plot_model_history(history)"
      ]
    }
  ],
  "metadata": {
    "kernelspec": {
      "display_name": "Python 3 (ipykernel)",
      "language": "python",
      "name": "python3"
    },
    "language_info": {
      "codemirror_mode": {
        "name": "ipython",
        "version": 3
      },
      "file_extension": ".py",
      "mimetype": "text/x-python",
      "name": "python",
      "nbconvert_exporter": "python",
      "pygments_lexer": "ipython3",
      "version": "3.9.16"
    },
    "colab": {
      "provenance": []
    }
  },
  "nbformat": 4,
  "nbformat_minor": 0
}